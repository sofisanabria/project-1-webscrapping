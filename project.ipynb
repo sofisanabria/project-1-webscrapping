{
 "cells": [
  {
   "cell_type": "markdown",
   "metadata": {},
   "source": [
    "# UCU 2024 - Proyecto 1\n",
    "Web Scraping - Proyecto para la asignatura Programación para Análisis de Datos"
   ]
  },
  {
   "cell_type": "code",
   "execution_count": 34,
   "metadata": {},
   "outputs": [],
   "source": [
    "import requests\n",
    "from bs4 import BeautifulSoup\n",
    "import json"
   ]
  },
  {
   "cell_type": "code",
   "execution_count": 35,
   "metadata": {},
   "outputs": [],
   "source": [
    "URL = \"https://www.infocasas.com.uy/venta/inmuebles/\"\n",
    "PLACES = (\"salto\", \"flores\", \"artigas\")"
   ]
  },
  {
   "cell_type": "code",
   "execution_count": 36,
   "metadata": {},
   "outputs": [],
   "source": [
    "properties = {\n",
    "       \"ciudades\": []\n",
    "}\n",
    "for place in PLACES:\n",
    "    city = {\n",
    "           \"nombre\": place.title(),\n",
    "           \"propiedades\": []\n",
    "    }\n",
    "    res = requests.get(URL + place, headers={\"User-Agent\": None})\n",
    "    html = BeautifulSoup(res.text)\n",
    "    elements = html.find_all(\"div\", {\"class\":\"listingCard\"})\n",
    "    for element in elements:\n",
    "        propertyInfo = {\n",
    "               \"precio\": None,\n",
    "               \"tamano\": None,\n",
    "               \"habitaciones\": None,\n",
    "               \"link\": \"https://www.infocasas.com.uy\" + element.find(\"a\")[\"href\"]\n",
    "        }\n",
    "\n",
    "        dorm = element.find(\"div\", {\"class\": \"lc-typologyTag\"}).find(\"strong\").text\n",
    "        if \"Dorm.\" in dorm:\n",
    "            propertyInfo[\"habitaciones\"] = int(dorm.split()[0])\n",
    "\n",
    "        price = element.find(\"div\", {\"class\": \"lc-price\"}).text\n",
    "        if price:\n",
    "            propertyInfo[\"precio\"] = price.strip().split()[-1]\n",
    "            \n",
    "        size = element.find(\"div\", {\"class\": \"lc-typologyTag\"}).find_all(\"strong\")[-1]\n",
    "        if \" m\" in size.text:\n",
    "            propertyInfo[\"tamano\"] = size.text.split()[0]\n",
    "        \n",
    "        city[\"propiedades\"].append(propertyInfo)\n",
    "        \n",
    "    properties[\"ciudades\"].append(city)"
   ]
  },
  {
   "cell_type": "code",
   "execution_count": 37,
   "metadata": {},
   "outputs": [],
   "source": [
    "json.dump(properties, open(\"propiedades.json\", \"w\"), indent=2)"
   ]
  }
 ],
 "metadata": {
  "kernelspec": {
   "display_name": ".venv",
   "language": "python",
   "name": "python3"
  },
  "language_info": {
   "codemirror_mode": {
    "name": "ipython",
    "version": 3
   },
   "file_extension": ".py",
   "mimetype": "text/x-python",
   "name": "python",
   "nbconvert_exporter": "python",
   "pygments_lexer": "ipython3",
   "version": "3.12.5"
  }
 },
 "nbformat": 4,
 "nbformat_minor": 2
}
